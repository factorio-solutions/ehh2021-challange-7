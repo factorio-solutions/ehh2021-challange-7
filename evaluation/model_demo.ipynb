{
 "cells": [
  {
   "cell_type": "markdown",
   "metadata": {},
   "source": [
    "# Popis řešení\n",
    "\n",
    "## Použité předpoklady\n",
    "Příchod každého pacienta je podmíněně nezávislý na příchodů ostatních pacientů. Podmíněno je to zde vnějšími podmínkami, konkrétně jde o:\n",
    "- čas:\n",
    "    - den v týdnu,\n",
    "    - den v roce,\n",
    "    - hodina dne,\n",
    "- počasí v Praze:\n",
    "    - vlhkost vzduchu,\n",
    "    - venkovní teplota,\n",
    "    - atmosférický tlak vzduchu,\n",
    "- Google - trendy mobility v Praze:\n",
    "    - Retail & Recreation (restaurace, kavárny, kina...),\n",
    "    - Residential (pohyb v okolí domova),\n",
    "- Apple - trend mobility v Praze:\n",
    "    - pouze jednotné vyjádření poměrné mobility,\n",
    "- Waze v Praze:\n",
    "    - Change in Driven Miles/KMs (v podstatě stupeň dopravy).\n",
    "\n",
    "Tyto veličiny slouží jako vstupy modelu. Dále předpokládáme, že frekvence příchodů je v čase proměnlivá, nemění se skokově, ale spojitě.\n",
    "\n",
    "## Pravděpodobnostní model\n",
    "Zvolili jsme Poissonovo rozdělení s parametrem $r$, tedy frekvencí příchodů pacientů za jednotku času. Jednotkou času je 1 hodina.\n",
    "Frekvence příchodů je v čase proměnlivá a modelujeme ji pomocí Gaussovského procesu.\n",
    "\\begin{equation}\n",
    "r(t) \\sim \\mathcal{GP}\n",
    "\\end{equation}"
   ]
  },
  {
   "cell_type": "code",
   "execution_count": 1,
   "metadata": {},
   "outputs": [],
   "source": [
    "import math\n",
    "import torch\n",
    "import pyro\n",
    "import tqdm\n",
    "import gpytorch\n",
    "from matplotlib import pyplot as plt\n",
    "\n",
    "%matplotlib inline\n",
    "import matplotlib as mpl\n",
    "mpl.rc_file_defaults()"
   ]
  },
  {
   "cell_type": "code",
   "execution_count": null,
   "metadata": {},
   "outputs": [],
   "source": [
    "dfactory_online = data_loader.OnlineFactory(data_frequency=hack_config.data_frequency,\n",
    "                                        teams=hack_config.teams,\n",
    "                                        hospital=hack_config.hospital,\n",
    "                                        data_folder=hack_config.data_folder,\n",
    "                                        dtype=dtype)\n",
    "ora = Oracle(hack_config.model_path, dsfactory=dfactory_online)\n",
    "preds = ora.get_arrival_prob_mass(n_arrivals=8,\n",
    "                                    to_future=2,\n",
    "                                    to_past=10)\n",
    "ax = sns.heatmap(preds.T, vmin=0, vmax=1,\n",
    "    annot=True,\n",
    "    fmt='.1f',\n",
    "    cmap=\"YlGnBu\",\n",
    "    cbar_kws={'label': 'Probability'})\n",
    "ax.set_xticklabels(preds.index.strftime('%d. %m. %H:%M'))\n",
    "ax.invert_yaxis()\n",
    "ax.set_xlabel('Time')\n",
    "ax.set_ylabel('Number of Arrivals')"
   ]
  }
 ],
 "metadata": {
  "interpreter": {
   "hash": "5874c20bf49fa9f1fd4e5b3a320a48ed4fe307b56eee93656431ad8e256220cd"
  },
  "kernelspec": {
   "display_name": "Python 3.8.6 64-bit ('.venv': venv)",
   "language": "python",
   "name": "python3"
  },
  "language_info": {
   "codemirror_mode": {
    "name": "ipython",
    "version": 3
   },
   "file_extension": ".py",
   "mimetype": "text/x-python",
   "name": "python",
   "nbconvert_exporter": "python",
   "pygments_lexer": "ipython3",
   "version": "3.8.6"
  },
  "orig_nbformat": 4
 },
 "nbformat": 4,
 "nbformat_minor": 2
}
